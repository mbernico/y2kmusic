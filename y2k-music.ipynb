{
 "cells": [
  {
   "cell_type": "code",
   "execution_count": 165,
   "metadata": {
    "collapsed": true
   },
   "outputs": [],
   "source": [
    "import pandas as pd\n",
    "from glob import glob\n",
    "import nltk\n",
    "from nltk.corpus import stopwords\n",
    "from sklearn.feature_extraction.text import TfidfVectorizer\n",
    "from sklearn.cross_validation import train_test_split\n",
    "from sklearn import naive_bayes\n",
    "from sklearn.metrics import roc_auc_score"
   ]
  },
  {
   "cell_type": "code",
   "execution_count": 166,
   "metadata": {
    "collapsed": false
   },
   "outputs": [],
   "source": [
    "pre_y2k_files = glob(\"./pre-y2k/*\")\n",
    "post_y2k_files = glob(\"./posty2k/*\")"
   ]
  },
  {
   "cell_type": "code",
   "execution_count": 174,
   "metadata": {
    "collapsed": false
   },
   "outputs": [],
   "source": [
    "pre_y2k_df = pd.DataFrame()\n",
    "post_y2k_df = pd.DataFrame()\n",
    "\n",
    "def get_label(x):\n",
    "    if 'good' in x:\n",
    "            return 1\n",
    "    else:\n",
    "            return 0\n",
    "        \n",
    "def get_name(x):\n",
    "    parts = x.split('/')\n",
    "    return parts[2].split('-')[0]\n",
    "\n",
    "def get_lyrics(x):\n",
    "    with open(x, 'r') as f:\n",
    "        lyrics = f.read().replace('\\n', ' ')\n",
    "    return lyrics\n",
    "    \n",
    "        \n",
    "\n",
    "\n",
    "pre_y2k_df['label'] = [get_label(x) for x in pre_y2k_files]\n",
    "pre_y2k_df['name']= [get_name(x) for x in pre_y2k_files]\n",
    "pre_y2k_df['lyrics']= [get_lyrics(x) for x in pre_y2k_files]\n",
    "\n",
    "post_y2k_df['name']= [get_name(x) for x in post_y2k_files]\n",
    "post_y2k_df['lyrics']= [get_lyrics(x) for x in post_y2k_files]"
   ]
  },
  {
   "cell_type": "code",
   "execution_count": 175,
   "metadata": {
    "collapsed": false
   },
   "outputs": [],
   "source": [
    "#TFIDF Vectorizer, just like before\n",
    "stopset = set(stopwords.words('english'))\n",
    "vectorizer = TfidfVectorizer(use_idf=True, lowercase=True, strip_accents='ascii',\n",
    "                       ngram_range=(1,4), stop_words=stopset )"
   ]
  },
  {
   "cell_type": "code",
   "execution_count": 176,
   "metadata": {
    "collapsed": true
   },
   "outputs": [],
   "source": [
    "y=pre_y2k_df.label\n",
    "X=vectorizer.fit_transform(pre_y2k_df.lyrics)"
   ]
  },
  {
   "cell_type": "code",
   "execution_count": 177,
   "metadata": {
    "collapsed": false
   },
   "outputs": [
    {
     "data": {
      "text/plain": [
       "MultinomialNB(alpha=1.0, class_prior=None, fit_prior=True)"
      ]
     },
     "execution_count": 177,
     "metadata": {},
     "output_type": "execute_result"
    }
   ],
   "source": [
    "#we will train a naive_bayes classifier\n",
    "clf = naive_bayes.MultinomialNB()\n",
    "clf.fit(X, y)"
   ]
  },
  {
   "cell_type": "code",
   "execution_count": 178,
   "metadata": {
    "collapsed": false
   },
   "outputs": [],
   "source": [
    "predict = clf.predict(vectorizer.transform(post_y2k_df.lyrics))"
   ]
  },
  {
   "cell_type": "code",
   "execution_count": 179,
   "metadata": {
    "collapsed": false
   },
   "outputs": [],
   "source": [
    "post_y2k_df['predict'] = predict"
   ]
  },
  {
   "cell_type": "code",
   "execution_count": 180,
   "metadata": {
    "collapsed": false
   },
   "outputs": [
    {
     "data": {
      "text/html": [
       "<div style=\"max-height:1000px;max-width:1500px;overflow:auto;\">\n",
       "<table border=\"1\" class=\"dataframe\">\n",
       "  <thead>\n",
       "    <tr style=\"text-align: right;\">\n",
       "      <th></th>\n",
       "      <th>name</th>\n",
       "      <th>lyrics</th>\n",
       "      <th>predict</th>\n",
       "    </tr>\n",
       "  </thead>\n",
       "  <tbody>\n",
       "    <tr>\n",
       "      <th>0</th>\n",
       "      <td>                    21</td>\n",
       "      <td> Well, it's your birthday Let's act like it is ...</td>\n",
       "      <td> 0</td>\n",
       "    </tr>\n",
       "    <tr>\n",
       "      <th>1</th>\n",
       "      <td>              anaconda</td>\n",
       "      <td> My Anaconda don't... My Anaconda don't... My A...</td>\n",
       "      <td> 0</td>\n",
       "    </tr>\n",
       "    <tr>\n",
       "      <th>2</th>\n",
       "      <td>           radioactive</td>\n",
       "      <td> Whoa, oh, oh Whoa, oh, oh Whoa, oh, oh Whoa  I...</td>\n",
       "      <td> 1</td>\n",
       "    </tr>\n",
       "    <tr>\n",
       "      <th>3</th>\n",
       "      <td>              theclimb</td>\n",
       "      <td> I can almost see it. That dream I'm dreaming, ...</td>\n",
       "      <td> 0</td>\n",
       "    </tr>\n",
       "    <tr>\n",
       "      <th>4</th>\n",
       "      <td> whatmakesyoubeautiful</td>\n",
       "      <td> [Verse 1] [Liam] You're insecure, Don't know w...</td>\n",
       "      <td> 1</td>\n",
       "    </tr>\n",
       "    <tr>\n",
       "      <th>5</th>\n",
       "      <td>      allaboutthatbass</td>\n",
       "      <td> Because you know I'm all about that bass 'Bout...</td>\n",
       "      <td> 0</td>\n",
       "    </tr>\n",
       "  </tbody>\n",
       "</table>\n",
       "</div>"
      ],
      "text/plain": [
       "                    name                                             lyrics  \\\n",
       "0                     21  Well, it's your birthday Let's act like it is ...   \n",
       "1               anaconda  My Anaconda don't... My Anaconda don't... My A...   \n",
       "2            radioactive  Whoa, oh, oh Whoa, oh, oh Whoa, oh, oh Whoa  I...   \n",
       "3               theclimb  I can almost see it. That dream I'm dreaming, ...   \n",
       "4  whatmakesyoubeautiful  [Verse 1] [Liam] You're insecure, Don't know w...   \n",
       "5       allaboutthatbass  Because you know I'm all about that bass 'Bout...   \n",
       "\n",
       "   predict  \n",
       "0        0  \n",
       "1        0  \n",
       "2        1  \n",
       "3        0  \n",
       "4        1  \n",
       "5        0  "
      ]
     },
     "execution_count": 180,
     "metadata": {},
     "output_type": "execute_result"
    }
   ],
   "source": [
    "post_y2k_df"
   ]
  },
  {
   "cell_type": "code",
   "execution_count": null,
   "metadata": {
    "collapsed": true
   },
   "outputs": [],
   "source": []
  },
  {
   "cell_type": "code",
   "execution_count": null,
   "metadata": {
    "collapsed": true
   },
   "outputs": [],
   "source": []
  }
 ],
 "metadata": {
  "kernelspec": {
   "display_name": "Python 2",
   "language": "python",
   "name": "python2"
  },
  "language_info": {
   "codemirror_mode": {
    "name": "ipython",
    "version": 2
   },
   "file_extension": ".py",
   "mimetype": "text/x-python",
   "name": "python",
   "nbconvert_exporter": "python",
   "pygments_lexer": "ipython2",
   "version": "2.7.10"
  }
 },
 "nbformat": 4,
 "nbformat_minor": 0
}
